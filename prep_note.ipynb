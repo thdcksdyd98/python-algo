{
 "cells": [
  {
   "attachments": {},
   "cell_type": "markdown",
   "metadata": {},
   "source": [
    "# Permutation & Combination -> itertools"
   ]
  },
  {
   "attachments": {},
   "cell_type": "markdown",
   "metadata": {},
   "source": [
    "#### Permutation:\n",
    "{'A','B','C'}, 3, no duplicates\n",
    "\n",
    "\n",
    "        from itertools import permutations\n",
    "\n",
    "        data = ['A','B','C']\n",
    "        result = list(permutations(data, 3))\n",
    "\n",
    "        print(result) \n",
    "\n",
    "##### result -> [('A', 'B', 'C'), ('A', 'C', 'B'), ('B', 'A', 'C'), ('B', 'C', 'A'), ('C', 'A', 'B'), ('C', 'B', 'A')]\n",
    "\n",
    "{'A','B','C'}, 2, allows duplicates\n",
    "\n",
    "        from itertools import products\n",
    "\n",
    "        data = ['A','B','C']\n",
    "        result = list(product(data, repeat = 2))\n",
    "\n",
    "        print(result)\n",
    "\n",
    "##### result -> [('A', 'A'), ('A', 'B'), ('A', 'C'), ('B', 'A'), ('B', 'B'), ('B', 'C'), ('C', 'A'), ('C', 'B'), ('C', 'C')]\n",
    "\n",
    "#### Combination:\n",
    "{'A','B','C'}, without consideration of sequence\n",
    "\n",
    "        from itertools import combinations\n",
    "\n",
    "        data = ['A','B','C']\n",
    "        result = list(combinations(data, 2))\n",
    "\n",
    "        print(result)\n",
    "\n",
    "##### result -> [('A', 'B'), ('A', 'C'), ('B', 'C')]\n",
    "\n",
    "{'A','B','C'}, without consideration of sequence, allows duplicates\n",
    "\n",
    "        from itertools import combinations_with_replacement\n",
    "\n",
    "        data = ['A','B','C']\n",
    "        result = list(combinations_with_replacement(data, 2))\n",
    "\n",
    "        print(result)\n",
    "\n",
    "##### result -> [('A', 'A'), ('A', 'B'), ('A', 'C'), ('B', 'B'), ('B', 'C'), ('C', 'C')]"
   ]
  },
  {
   "attachments": {},
   "cell_type": "markdown",
   "metadata": {},
   "source": [
    "# Counts -> Collections"
   ]
  },
  {
   "attachments": {},
   "cell_type": "markdown",
   "metadata": {},
   "source": [
    "#### counts elements\n",
    "\n",
    "        from collections import Counter\n",
    "\n",
    "        counter = Counter(['red','blue','red','green','blue','blue'])\n",
    "\n",
    "        print(counter['blue'])\n",
    "        print(counter['green'])\n",
    "        print(dict(counter))\n",
    "\n",
    "##### result -> 3 1 {'red': 2, 'blue': 3, 'green': 1}"
   ]
  },
  {
   "attachments": {},
   "cell_type": "markdown",
   "metadata": {},
   "source": [
    "# GCD & LCM -> Math"
   ]
  },
  {
   "attachments": {},
   "cell_type": "markdown",
   "metadata": {},
   "source": [
    "#### GCD\n",
    "\n",
    "        import math\n",
    "        \n",
    "        def lcm(a,b):\n",
    "            return a*b // math.gcd(a,b)\n",
    "\n",
    "        print(math.gcd(21, 14))\n",
    "        print(lcm(21,14)) \n",
    "        # not need custom function for lcm since 'math' provide lcm\n",
    "        print(math.lcm(21,14))\n",
    "\n",
    "##### result -> 7, 42, 42\n",
    "\n"
   ]
  }
 ],
 "metadata": {
  "kernelspec": {
   "display_name": "base",
   "language": "python",
   "name": "python3"
  },
  "language_info": {
   "codemirror_mode": {
    "name": "ipython",
    "version": 3
   },
   "file_extension": ".py",
   "mimetype": "text/x-python",
   "name": "python",
   "nbconvert_exporter": "python",
   "pygments_lexer": "ipython3",
   "version": "3.9.13"
  },
  "orig_nbformat": 4
 },
 "nbformat": 4,
 "nbformat_minor": 2
}
